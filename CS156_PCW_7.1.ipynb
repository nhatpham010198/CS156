{
 "cells": [
  {
   "cell_type": "markdown",
   "metadata": {},
   "source": [
    "The distribution that can describe the process is binomial\n",
    "Assuming coin 1 has a higher probability of landing head (0.5) than the other coin (0.4)"
   ]
  },
  {
   "cell_type": "code",
   "execution_count": 21,
   "metadata": {},
   "outputs": [],
   "source": [
    "import scipy.stats as sts\n",
    "import numpy as np\n",
    "import matplotlib.pyplot as plt\n",
    "p1 = [0.5]\n",
    "p2 = [0.4]\n",
    "\n",
    "heads = [14, 33, 19, 10, 0, 17, 24, 17, 1, 36, 5, 6, 5, 13, 4, 35, 5, 5, 74, 34]\n",
    "throws = [41, 43, 23, 23, 1, 23, 36, 37, 2, 131, 5, 29, 13, 47, 10, 58, 15, 14, 100, 113]\n",
    "rep = len(heads)\n",
    "iteration = 100\n",
    "for _ in range(iteration -1):\n",
    "    is_coin1 = []\n",
    "    is_coin2 = []\n",
    "    for i in range(rep):\n",
    "        #P(heads,throws|p1)\n",
    "        coin1 = sts.binom.cdf(heads[i],throws[i],p1[-1])\n",
    "        #P(heads,throws|p2)\n",
    "        coin2 = sts.binom.cdf(heads[i],throws[i],p2[-1])\n",
    "        #apply baysian formula with assumption that \n",
    "        #P(p1) (or prob of getting coin 1 from the bag) = P(p2) (or prob of getting coin2 from the bag) = 0.5 ()\n",
    "        is_coin1.append(coin1/(coin1+coin2))\n",
    "        is_coin2.append(coin2/(coin1+coin2))\n",
    "    p1.append(np.dot(heads,is_coin1)/np.dot(throws,is_coin1))\n",
    "    p2.append(np.dot(heads,is_coin2)/np.dot(throws,is_coin2))\n",
    "\n"
   ]
  },
  {
   "cell_type": "code",
   "execution_count": 22,
   "metadata": {},
   "outputs": [
    {
     "data": {
      "text/plain": [
       "[<matplotlib.lines.Line2D at 0x12298e410>]"
      ]
     },
     "execution_count": 22,
     "metadata": {},
     "output_type": "execute_result"
    },
    {
     "data": {
      "image/png": "[encoded data removed]",
      "text/plain": [
       "<Figure size 432x288 with 1 Axes>"
      ]
     },
     "metadata": {
      "needs_background": "light"
     },
     "output_type": "display_data"
    }
   ],
   "source": [
    "# Convergence of p1\n",
    "plt.plot(range(iteration),p1)"
   ]
  },
  {
   "cell_type": "code",
   "execution_count": 23,
   "metadata": {},
   "outputs": [
    {
     "data": {
      "text/plain": [
       "[<matplotlib.lines.Line2D at 0x122a2a410>]"
      ]
     },
     "execution_count": 23,
     "metadata": {},
     "output_type": "execute_result"
    },
    {
     "data": {
      "image/png": "[encoded data removed]",
      "text/plain": [
       "<Figure size 432x288 with 1 Axes>"
      ]
     },
     "metadata": {
      "needs_background": "light"
     },
     "output_type": "display_data"
    }
   ],
   "source": [
    "# convergence of p2\n",
    "plt.plot(range(iteration),p2)"
   ]
  },
  {
   "cell_type": "code",
   "execution_count": null,
   "metadata": {},
   "outputs": [],
   "source": []
  }
 ],
 "metadata": {
  "kernelspec": {
   "display_name": "Python 3",
   "language": "python",
   "name": "python3"
  },
  "language_info": {
   "codemirror_mode": {
    "name": "ipython",
    "version": 3
   },
   "file_extension": ".py",
   "mimetype": "text/x-python",
   "name": "python",
   "nbconvert_exporter": "python",
   "pygments_lexer": "ipython3",
   "version": "3.7.4"
  }
 },
 "nbformat": 4,
 "nbformat_minor": 2
}
