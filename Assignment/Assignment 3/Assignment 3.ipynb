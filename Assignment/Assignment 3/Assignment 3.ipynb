{
 "cells": [
  {
   "cell_type": "code",
   "execution_count": 35,
   "metadata": {},
   "outputs": [],
   "source": [
    "from sklearn.metrics.pairwise import rbf_kernel\n",
    "from sklearn.linear_model import Ridge\n",
    "from sklearn.linear_model import LinearRegression\n",
    "import matplotlib.pyplot as plt\n",
    "import numpy as np\n",
    "import pandas as pd\n",
    "from datetime import datetime\n",
    "from sklearn.metrics import r2_score "
   ]
  },
  {
   "cell_type": "code",
   "execution_count": 2,
   "metadata": {},
   "outputs": [
    {
     "data": {
      "text/html": [
       "<div>\n",
       "<style scoped>\n",
       "    .dataframe tbody tr th:only-of-type {\n",
       "        vertical-align: middle;\n",
       "    }\n",
       "\n",
       "    .dataframe tbody tr th {\n",
       "        vertical-align: top;\n",
       "    }\n",
       "\n",
       "    .dataframe thead th {\n",
       "        text-align: right;\n",
       "    }\n",
       "</style>\n",
       "<table border=\"1\" class=\"dataframe\">\n",
       "  <thead>\n",
       "    <tr style=\"text-align: right;\">\n",
       "      <th></th>\n",
       "      <th>time</th>\n",
       "      <th>minute</th>\n",
       "      <th>temp</th>\n",
       "    </tr>\n",
       "  </thead>\n",
       "  <tbody>\n",
       "    <tr>\n",
       "      <td>0</td>\n",
       "      <td>20110101.0</td>\n",
       "      <td>5.0</td>\n",
       "      <td>-6.4</td>\n",
       "    </tr>\n",
       "    <tr>\n",
       "      <td>1</td>\n",
       "      <td>20110101.0</td>\n",
       "      <td>10.0</td>\n",
       "      <td>-6.5</td>\n",
       "    </tr>\n",
       "    <tr>\n",
       "      <td>2</td>\n",
       "      <td>20110101.0</td>\n",
       "      <td>15.0</td>\n",
       "      <td>-6.5</td>\n",
       "    </tr>\n",
       "    <tr>\n",
       "      <td>3</td>\n",
       "      <td>20110101.0</td>\n",
       "      <td>20.0</td>\n",
       "      <td>-6.5</td>\n",
       "    </tr>\n",
       "    <tr>\n",
       "      <td>4</td>\n",
       "      <td>20110101.0</td>\n",
       "      <td>25.0</td>\n",
       "      <td>-6.7</td>\n",
       "    </tr>\n",
       "    <tr>\n",
       "      <td>...</td>\n",
       "      <td>...</td>\n",
       "      <td>...</td>\n",
       "      <td>...</td>\n",
       "    </tr>\n",
       "    <tr>\n",
       "      <td>631291</td>\n",
       "      <td>20161231.0</td>\n",
       "      <td>2340.0</td>\n",
       "      <td>0.3</td>\n",
       "    </tr>\n",
       "    <tr>\n",
       "      <td>631292</td>\n",
       "      <td>20161231.0</td>\n",
       "      <td>2345.0</td>\n",
       "      <td>0.2</td>\n",
       "    </tr>\n",
       "    <tr>\n",
       "      <td>631293</td>\n",
       "      <td>20161231.0</td>\n",
       "      <td>2350.0</td>\n",
       "      <td>0.0</td>\n",
       "    </tr>\n",
       "    <tr>\n",
       "      <td>631294</td>\n",
       "      <td>20161231.0</td>\n",
       "      <td>2355.0</td>\n",
       "      <td>-0.1</td>\n",
       "    </tr>\n",
       "    <tr>\n",
       "      <td>631295</td>\n",
       "      <td>20170101.0</td>\n",
       "      <td>0.0</td>\n",
       "      <td>-0.1</td>\n",
       "    </tr>\n",
       "  </tbody>\n",
       "</table>\n",
       "<p>631296 rows × 3 columns</p>\n",
       "</div>"
      ],
      "text/plain": [
       "              time  minute  temp\n",
       "0       20110101.0     5.0  -6.4\n",
       "1       20110101.0    10.0  -6.5\n",
       "2       20110101.0    15.0  -6.5\n",
       "3       20110101.0    20.0  -6.5\n",
       "4       20110101.0    25.0  -6.7\n",
       "...            ...     ...   ...\n",
       "631291  20161231.0  2340.0   0.3\n",
       "631292  20161231.0  2345.0   0.2\n",
       "631293  20161231.0  2350.0   0.0\n",
       "631294  20161231.0  2355.0  -0.1\n",
       "631295  20170101.0     0.0  -0.1\n",
       "\n",
       "[631296 rows x 3 columns]"
      ]
     },
     "execution_count": 2,
     "metadata": {},
     "output_type": "execute_result"
    }
   ],
   "source": [
    "#read data from txt file\n",
    "years = range(2011, 2017)\n",
    "files = ['CRNS0101-05-%d-CA_Yosemite_Village_12_W.txt' % y for y in years]\n",
    "usecols = [1,2,8]\n",
    "\n",
    "data = [np.loadtxt(f, usecols=usecols) for f in files]\n",
    "data = np.vstack(data)\n",
    "data = pd.DataFrame(data)\n",
    "data = data.rename(columns = {0:'time', 1:'minute', 2:'temp'})\n",
    "data"
   ]
  },
  {
   "cell_type": "code",
   "execution_count": 3,
   "metadata": {},
   "outputs": [
    {
     "data": {
      "text/html": [
       "<div>\n",
       "<style scoped>\n",
       "    .dataframe tbody tr th:only-of-type {\n",
       "        vertical-align: middle;\n",
       "    }\n",
       "\n",
       "    .dataframe tbody tr th {\n",
       "        vertical-align: top;\n",
       "    }\n",
       "\n",
       "    .dataframe thead th {\n",
       "        text-align: right;\n",
       "    }\n",
       "</style>\n",
       "<table border=\"1\" class=\"dataframe\">\n",
       "  <thead>\n",
       "    <tr style=\"text-align: right;\">\n",
       "      <th></th>\n",
       "      <th>time</th>\n",
       "      <th>minute</th>\n",
       "      <th>temp</th>\n",
       "    </tr>\n",
       "  </thead>\n",
       "  <tbody>\n",
       "    <tr>\n",
       "      <td>0</td>\n",
       "      <td>20110101.0</td>\n",
       "      <td>5.0</td>\n",
       "      <td>-6.4</td>\n",
       "    </tr>\n",
       "    <tr>\n",
       "      <td>1</td>\n",
       "      <td>20110101.0</td>\n",
       "      <td>10.0</td>\n",
       "      <td>-6.5</td>\n",
       "    </tr>\n",
       "    <tr>\n",
       "      <td>2</td>\n",
       "      <td>20110101.0</td>\n",
       "      <td>15.0</td>\n",
       "      <td>-6.5</td>\n",
       "    </tr>\n",
       "    <tr>\n",
       "      <td>3</td>\n",
       "      <td>20110101.0</td>\n",
       "      <td>20.0</td>\n",
       "      <td>-6.5</td>\n",
       "    </tr>\n",
       "    <tr>\n",
       "      <td>4</td>\n",
       "      <td>20110101.0</td>\n",
       "      <td>25.0</td>\n",
       "      <td>-6.7</td>\n",
       "    </tr>\n",
       "    <tr>\n",
       "      <td>...</td>\n",
       "      <td>...</td>\n",
       "      <td>...</td>\n",
       "      <td>...</td>\n",
       "    </tr>\n",
       "    <tr>\n",
       "      <td>631291</td>\n",
       "      <td>20161231.0</td>\n",
       "      <td>2340.0</td>\n",
       "      <td>0.3</td>\n",
       "    </tr>\n",
       "    <tr>\n",
       "      <td>631292</td>\n",
       "      <td>20161231.0</td>\n",
       "      <td>2345.0</td>\n",
       "      <td>0.2</td>\n",
       "    </tr>\n",
       "    <tr>\n",
       "      <td>631293</td>\n",
       "      <td>20161231.0</td>\n",
       "      <td>2350.0</td>\n",
       "      <td>0.0</td>\n",
       "    </tr>\n",
       "    <tr>\n",
       "      <td>631294</td>\n",
       "      <td>20161231.0</td>\n",
       "      <td>2355.0</td>\n",
       "      <td>-0.1</td>\n",
       "    </tr>\n",
       "    <tr>\n",
       "      <td>631295</td>\n",
       "      <td>20170101.0</td>\n",
       "      <td>0.0</td>\n",
       "      <td>-0.1</td>\n",
       "    </tr>\n",
       "  </tbody>\n",
       "</table>\n",
       "<p>631296 rows × 3 columns</p>\n",
       "</div>"
      ],
      "text/plain": [
       "              time  minute  temp\n",
       "0       20110101.0     5.0  -6.4\n",
       "1       20110101.0    10.0  -6.5\n",
       "2       20110101.0    15.0  -6.5\n",
       "3       20110101.0    20.0  -6.5\n",
       "4       20110101.0    25.0  -6.7\n",
       "...            ...     ...   ...\n",
       "631291  20161231.0  2340.0   0.3\n",
       "631292  20161231.0  2345.0   0.2\n",
       "631293  20161231.0  2350.0   0.0\n",
       "631294  20161231.0  2355.0  -0.1\n",
       "631295  20170101.0     0.0  -0.1\n",
       "\n",
       "[631296 rows x 3 columns]"
      ]
     },
     "execution_count": 3,
     "metadata": {},
     "output_type": "execute_result"
    }
   ],
   "source": [
    "#rename table\n",
    "data = data.rename(columns = {0:'time', 1:'hour', 2:'temp'})\n",
    "data"
   ]
  },
  {
   "cell_type": "code",
   "execution_count": 4,
   "metadata": {},
   "outputs": [
    {
     "data": {
      "text/html": [
       "<div>\n",
       "<style scoped>\n",
       "    .dataframe tbody tr th:only-of-type {\n",
       "        vertical-align: middle;\n",
       "    }\n",
       "\n",
       "    .dataframe tbody tr th {\n",
       "        vertical-align: top;\n",
       "    }\n",
       "\n",
       "    .dataframe thead th {\n",
       "        text-align: right;\n",
       "    }\n",
       "</style>\n",
       "<table border=\"1\" class=\"dataframe\">\n",
       "  <thead>\n",
       "    <tr style=\"text-align: right;\">\n",
       "      <th></th>\n",
       "      <th>time</th>\n",
       "      <th>minute</th>\n",
       "      <th>temp</th>\n",
       "      <th>year</th>\n",
       "      <th>month</th>\n",
       "      <th>date</th>\n",
       "    </tr>\n",
       "  </thead>\n",
       "  <tbody>\n",
       "    <tr>\n",
       "      <td>0</td>\n",
       "      <td>20110101.0</td>\n",
       "      <td>5.0</td>\n",
       "      <td>-6.4</td>\n",
       "      <td>2011</td>\n",
       "      <td>1</td>\n",
       "      <td>1</td>\n",
       "    </tr>\n",
       "    <tr>\n",
       "      <td>1</td>\n",
       "      <td>20110101.0</td>\n",
       "      <td>10.0</td>\n",
       "      <td>-6.5</td>\n",
       "      <td>2011</td>\n",
       "      <td>1</td>\n",
       "      <td>1</td>\n",
       "    </tr>\n",
       "    <tr>\n",
       "      <td>2</td>\n",
       "      <td>20110101.0</td>\n",
       "      <td>15.0</td>\n",
       "      <td>-6.5</td>\n",
       "      <td>2011</td>\n",
       "      <td>1</td>\n",
       "      <td>1</td>\n",
       "    </tr>\n",
       "    <tr>\n",
       "      <td>3</td>\n",
       "      <td>20110101.0</td>\n",
       "      <td>20.0</td>\n",
       "      <td>-6.5</td>\n",
       "      <td>2011</td>\n",
       "      <td>1</td>\n",
       "      <td>1</td>\n",
       "    </tr>\n",
       "    <tr>\n",
       "      <td>4</td>\n",
       "      <td>20110101.0</td>\n",
       "      <td>25.0</td>\n",
       "      <td>-6.7</td>\n",
       "      <td>2011</td>\n",
       "      <td>1</td>\n",
       "      <td>1</td>\n",
       "    </tr>\n",
       "    <tr>\n",
       "      <td>...</td>\n",
       "      <td>...</td>\n",
       "      <td>...</td>\n",
       "      <td>...</td>\n",
       "      <td>...</td>\n",
       "      <td>...</td>\n",
       "      <td>...</td>\n",
       "    </tr>\n",
       "    <tr>\n",
       "      <td>631291</td>\n",
       "      <td>20161231.0</td>\n",
       "      <td>2340.0</td>\n",
       "      <td>0.3</td>\n",
       "      <td>2016</td>\n",
       "      <td>12</td>\n",
       "      <td>31</td>\n",
       "    </tr>\n",
       "    <tr>\n",
       "      <td>631292</td>\n",
       "      <td>20161231.0</td>\n",
       "      <td>2345.0</td>\n",
       "      <td>0.2</td>\n",
       "      <td>2016</td>\n",
       "      <td>12</td>\n",
       "      <td>31</td>\n",
       "    </tr>\n",
       "    <tr>\n",
       "      <td>631293</td>\n",
       "      <td>20161231.0</td>\n",
       "      <td>2350.0</td>\n",
       "      <td>0.0</td>\n",
       "      <td>2016</td>\n",
       "      <td>12</td>\n",
       "      <td>31</td>\n",
       "    </tr>\n",
       "    <tr>\n",
       "      <td>631294</td>\n",
       "      <td>20161231.0</td>\n",
       "      <td>2355.0</td>\n",
       "      <td>-0.1</td>\n",
       "      <td>2016</td>\n",
       "      <td>12</td>\n",
       "      <td>31</td>\n",
       "    </tr>\n",
       "    <tr>\n",
       "      <td>631295</td>\n",
       "      <td>20170101.0</td>\n",
       "      <td>0.0</td>\n",
       "      <td>-0.1</td>\n",
       "      <td>2017</td>\n",
       "      <td>1</td>\n",
       "      <td>1</td>\n",
       "    </tr>\n",
       "  </tbody>\n",
       "</table>\n",
       "<p>631296 rows × 6 columns</p>\n",
       "</div>"
      ],
      "text/plain": [
       "              time  minute  temp  year  month  date\n",
       "0       20110101.0     5.0  -6.4  2011      1     1\n",
       "1       20110101.0    10.0  -6.5  2011      1     1\n",
       "2       20110101.0    15.0  -6.5  2011      1     1\n",
       "3       20110101.0    20.0  -6.5  2011      1     1\n",
       "4       20110101.0    25.0  -6.7  2011      1     1\n",
       "...            ...     ...   ...   ...    ...   ...\n",
       "631291  20161231.0  2340.0   0.3  2016     12    31\n",
       "631292  20161231.0  2345.0   0.2  2016     12    31\n",
       "631293  20161231.0  2350.0   0.0  2016     12    31\n",
       "631294  20161231.0  2355.0  -0.1  2016     12    31\n",
       "631295  20170101.0     0.0  -0.1  2017      1     1\n",
       "\n",
       "[631296 rows x 6 columns]"
      ]
     },
     "execution_count": 4,
     "metadata": {},
     "output_type": "execute_result"
    }
   ],
   "source": [
    "#split 'time' column to year, month and date\n",
    "data['year'] = data.time.apply(lambda x: int(str(x)[:4]))\n",
    "data['month'] = data.time.apply(lambda x: int(str(x)[4:6]))\n",
    "data['date'] = data.time.apply(lambda x: int(str(x)[6:8]))\n",
    "data"
   ]
  },
  {
   "cell_type": "code",
   "execution_count": 5,
   "metadata": {},
   "outputs": [
    {
     "data": {
      "text/plain": [
       "60"
      ]
     },
     "execution_count": 5,
     "metadata": {},
     "output_type": "execute_result"
    }
   ],
   "source": [
    "# Function convert a date to its order in a year\n",
    "from datetime import datetime\n",
    "from datetime import date\n",
    "def get_date_dif(d1,d2):\n",
    "    a = str(int(d1[0]))+'-'+str(int(d1[1]))+'-'+ str(int(d1[2]))\n",
    "    b = str(int(d2[0]))+'-'+str(int(d2[1]))+'-'+ str(int(d2[2]))\n",
    "\n",
    "    a = datetime.strptime(a, \"%Y-%m-%d\")\n",
    "    b = datetime.strptime(b, \"%Y-%m-%d\")\n",
    "    return abs((a - b).days) + 1\n",
    "get_date_dif([2013,1,1], [2013,3,1])"
   ]
  },
  {
   "cell_type": "code",
   "execution_count": 6,
   "metadata": {},
   "outputs": [],
   "source": [
    "#apply the model on the data frame\n",
    "data['days_dif'] = data.apply(lambda x: get_date_dif([x.year,x.month,x.date],[x.year,1,1]), axis=1)"
   ]
  },
  {
   "cell_type": "code",
   "execution_count": 7,
   "metadata": {},
   "outputs": [
    {
     "data": {
      "text/plain": [
       "1380"
      ]
     },
     "execution_count": 7,
     "metadata": {},
     "output_type": "execute_result"
    }
   ],
   "source": [
    "#convert hour to minute\n",
    "def to_min(x):\n",
    "    hour = x//100\n",
    "    mins = x%100\n",
    "    return(hour*60+mins)\n",
    "to_min(2300)"
   ]
  },
  {
   "cell_type": "code",
   "execution_count": 10,
   "metadata": {},
   "outputs": [
    {
     "name": "stderr",
     "output_type": "stream",
     "text": [
      "/anaconda3/lib/python3.7/site-packages/ipykernel_launcher.py:1: SettingWithCopyWarning: \n",
      "A value is trying to be set on a copy of a slice from a DataFrame.\n",
      "Try using .loc[row_indexer,col_indexer] = value instead\n",
      "\n",
      "See the caveats in the documentation: http://pandas.pydata.org/pandas-docs/stable/user_guide/indexing.html#returning-a-view-versus-a-copy\n",
      "  \"\"\"Entry point for launching an IPython kernel.\n"
     ]
    }
   ],
   "source": [
    "data['mins'] = data.hour.apply(lambda x: to_min(x))"
   ]
  },
  {
   "cell_type": "code",
   "execution_count": 11,
   "metadata": {},
   "outputs": [],
   "source": [
    "data = data[data.temp>-1000]\n",
    "train_data = data[data.year < 2016][['mins','days_dif','temp']]\n",
    "test_data = data[data.year >= 2016][['mins','days_dif','temp']]\n",
    "\n"
   ]
  },
  {
   "cell_type": "code",
   "execution_count": 12,
   "metadata": {},
   "outputs": [
    {
     "data": {
      "text/html": [
       "<div>\n",
       "<style scoped>\n",
       "    .dataframe tbody tr th:only-of-type {\n",
       "        vertical-align: middle;\n",
       "    }\n",
       "\n",
       "    .dataframe tbody tr th {\n",
       "        vertical-align: top;\n",
       "    }\n",
       "\n",
       "    .dataframe thead th {\n",
       "        text-align: right;\n",
       "    }\n",
       "</style>\n",
       "<table border=\"1\" class=\"dataframe\">\n",
       "  <thead>\n",
       "    <tr style=\"text-align: right;\">\n",
       "      <th></th>\n",
       "      <th>mins</th>\n",
       "      <th>days_dif</th>\n",
       "    </tr>\n",
       "  </thead>\n",
       "  <tbody>\n",
       "    <tr>\n",
       "      <td>0</td>\n",
       "      <td>5.0</td>\n",
       "      <td>1</td>\n",
       "    </tr>\n",
       "    <tr>\n",
       "      <td>1</td>\n",
       "      <td>10.0</td>\n",
       "      <td>1</td>\n",
       "    </tr>\n",
       "    <tr>\n",
       "      <td>2</td>\n",
       "      <td>15.0</td>\n",
       "      <td>1</td>\n",
       "    </tr>\n",
       "    <tr>\n",
       "      <td>3</td>\n",
       "      <td>20.0</td>\n",
       "      <td>1</td>\n",
       "    </tr>\n",
       "    <tr>\n",
       "      <td>4</td>\n",
       "      <td>25.0</td>\n",
       "      <td>1</td>\n",
       "    </tr>\n",
       "    <tr>\n",
       "      <td>...</td>\n",
       "      <td>...</td>\n",
       "      <td>...</td>\n",
       "    </tr>\n",
       "    <tr>\n",
       "      <td>525882</td>\n",
       "      <td>1415.0</td>\n",
       "      <td>365</td>\n",
       "    </tr>\n",
       "    <tr>\n",
       "      <td>525883</td>\n",
       "      <td>1420.0</td>\n",
       "      <td>365</td>\n",
       "    </tr>\n",
       "    <tr>\n",
       "      <td>525884</td>\n",
       "      <td>1425.0</td>\n",
       "      <td>365</td>\n",
       "    </tr>\n",
       "    <tr>\n",
       "      <td>525885</td>\n",
       "      <td>1430.0</td>\n",
       "      <td>365</td>\n",
       "    </tr>\n",
       "    <tr>\n",
       "      <td>525886</td>\n",
       "      <td>1435.0</td>\n",
       "      <td>365</td>\n",
       "    </tr>\n",
       "  </tbody>\n",
       "</table>\n",
       "<p>525479 rows × 2 columns</p>\n",
       "</div>"
      ],
      "text/plain": [
       "          mins  days_dif\n",
       "0          5.0         1\n",
       "1         10.0         1\n",
       "2         15.0         1\n",
       "3         20.0         1\n",
       "4         25.0         1\n",
       "...        ...       ...\n",
       "525882  1415.0       365\n",
       "525883  1420.0       365\n",
       "525884  1425.0       365\n",
       "525885  1430.0       365\n",
       "525886  1435.0       365\n",
       "\n",
       "[525479 rows x 2 columns]"
      ]
     },
     "execution_count": 12,
     "metadata": {},
     "output_type": "execute_result"
    }
   ],
   "source": [
    "X_train = train_data[['mins','days_dif']]\n",
    "y_train =train_data['temp']\n",
    "X_test = test_data[['mins','days_dif']]\n",
    "y_test = test_data['temp']\n",
    "X_train"
   ]
  },
  {
   "cell_type": "markdown",
   "metadata": {},
   "source": [
    "<b>Note: </b>Although I tried different numbers of radial basis functions and different widths of the radial basis function, for the sake of the presentation, I only present values that produce the best result."
   ]
  },
  {
   "cell_type": "markdown",
   "metadata": {},
   "source": [
    "# using both mins and days_dif as predictors"
   ]
  },
  {
   "cell_type": "code",
   "execution_count": 47,
   "metadata": {},
   "outputs": [
    {
     "data": {
      "text/plain": [
       "(288, 2)"
      ]
     },
     "execution_count": 47,
     "metadata": {},
     "output_type": "execute_result"
    }
   ],
   "source": [
    "#The best values of of centers I found is 288\n",
    "#There are 24 centers for the 'mins' input that corresspond to 24 hours in a day\n",
    "# and 12 centers of 'days_dif' input (12 months in a year))\n",
    "#In total we have 24*12 = 288 centers for the model\n",
    "centers = []\n",
    "for i in range(30,1440,60):\n",
    "    for j in range(0,365,31):\n",
    "        centers.append([i,j])\n",
    "centers = np.array(centers)\n",
    "\n",
    "centers.shape"
   ]
  },
  {
   "cell_type": "code",
   "execution_count": 49,
   "metadata": {},
   "outputs": [
    {
     "data": {
      "text/plain": [
       "LinearRegression()"
      ]
     },
     "execution_count": 49,
     "metadata": {},
     "output_type": "execute_result"
    }
   ],
   "source": [
    "#high sigma means more flexibility in the model, which allows the model to fits the data better.\n",
    "sigma = 10000\n",
    "alpha = 0.1\n",
    "\n",
    "#apply rbf for train data\n",
    "expanded_X_train = rbf_kernel(X_train, centers, gamma= 1/sigma)\n",
    "expanded_X_train\n",
    "\n",
    "#create a linear regression model\n",
    "regr = LinearRegression()\n",
    "regr.fit(expanded_X_train, y_train)\n",
    "\n",
    "\n"
   ]
  },
  {
   "cell_type": "code",
   "execution_count": 54,
   "metadata": {},
   "outputs": [
    {
     "name": "stdout",
     "output_type": "stream",
     "text": [
      "Score on test data =  0.6230067100030776\n"
     ]
    },
    {
     "data": {
      "image/png": "[encoded data removed]",
      "text/plain": [
       "<Figure size 432x288 with 1 Axes>"
      ]
     },
     "metadata": {
      "needs_background": "light"
     },
     "output_type": "display_data"
    }
   ],
   "source": [
    "\n",
    "#use the model to predict the training data\n",
    "expanded_X_test = rbf_kernel(X_test, centers, gamma= 1/sigma)\n",
    "prediction = regr.predict(expanded_X_test)\n",
    "plt.plot(X_test.index, prediction)\n",
    "\n",
    "print(\"Score on test data = \", r2_score(y_test,prediction))"
   ]
  },
  {
   "cell_type": "code",
   "execution_count": 24,
   "metadata": {},
   "outputs": [
    {
     "data": {
      "text/plain": [
       "Text(0.5, 1.0, 'time of a year contribution totemperature')"
      ]
     },
     "execution_count": 24,
     "metadata": {},
     "output_type": "execute_result"
    },
    {
     "data": {
      "image/png": "[encoded data removed]",
      "text/plain": [
       "<Figure size 432x288 with 1 Axes>"
      ]
     },
     "metadata": {
      "needs_background": "light"
     },
     "output_type": "display_data"
    },
    {
     "data": {
      "image/png": "[encoded data removed]",
      "text/plain": [
       "<Figure size 432x288 with 1 Axes>"
      ]
     },
     "metadata": {
      "needs_background": "light"
     },
     "output_type": "display_data"
    }
   ],
   "source": [
    "#use the model to predict the training data\n",
    "expanded_x_test = rbf_kernel(X_test, centers, gamma= 1/sigma)\n",
    "prediction = regr.predict(expanded_x_test)\n",
    "plt.figure()\n",
    "plt.plot(X_test.mins[:288], prediction[:288])\n",
    "plt.title('time of a day contribution to temperature')\n",
    "plt.figure()\n",
    "plt.plot(X_test.days_dif[:-1], prediction[:-1])\n",
    "plt.title('time of a year contribution totemperature')"
   ]
  },
  {
   "cell_type": "markdown",
   "metadata": {},
   "source": [
    "# Using time of a day (mins) as predictor"
   ]
  },
  {
   "cell_type": "code",
   "execution_count": 55,
   "metadata": {},
   "outputs": [
    {
     "name": "stdout",
     "output_type": "stream",
     "text": [
      "Score on test data =  0.044278598615585474\n"
     ]
    }
   ],
   "source": [
    "centers = np.array(range(30,1440,60)).reshape(-1,1)\n",
    "\n",
    "sigma = 10000\n",
    "alpha = 0.1\n",
    "\n",
    "#apply rbf for train data\n",
    "expanded_X_train = rbf_kernel(np.array(X_train.mins).reshape(-1,1), centers, gamma= 1/sigma)\n",
    "expanded_X_train\n",
    "\n",
    "#create a linear regression model\n",
    "regr = LinearRegression()\n",
    "regr.fit(expanded_X_train, y_train)\n",
    "\n",
    "#test the model on test set\n",
    "expanded_X_test = rbf_kernel(np.array(X_test.mins).reshape(-1,1), centers, gamma= 1/sigma)\n",
    "prediction = regr.predict(expanded_X_test)\n",
    "print(\"Score on test data = \", r2_score(y_test,prediction))\n",
    "\n"
   ]
  },
  {
   "cell_type": "markdown",
   "metadata": {},
   "source": [
    "# Using time of a year (days_dif) as predictor"
   ]
  },
  {
   "cell_type": "code",
   "execution_count": 57,
   "metadata": {},
   "outputs": [
    {
     "name": "stdout",
     "output_type": "stream",
     "text": [
      "Score on test data =  0.5717257164127173\n"
     ]
    }
   ],
   "source": [
    "centers = np.array(range(1,366,31)).reshape(-1,1)\n",
    "\n",
    "sigma = 10000\n",
    "alpha = 0.1\n",
    "\n",
    "#apply rbf for train data\n",
    "expanded_X_train = rbf_kernel(np.array(X_train.days_dif).reshape(-1,1), centers, gamma= 1/sigma)\n",
    "expanded_X_train\n",
    "\n",
    "#create a linear regression model\n",
    "regr = LinearRegression()\n",
    "regr.fit(expanded_X_train, y_train)\n",
    "\n",
    "#test the model on test set\n",
    "expanded_X_test = rbf_kernel(np.array(X_test.days_dif).reshape(-1,1), centers, gamma= 1/sigma)\n",
    "prediction = regr.predict(expanded_X_test)\n",
    "print(\"Score on test data = \", r2_score(y_test,prediction))\n",
    "\n",
    "\n",
    "\n"
   ]
  },
  {
   "cell_type": "markdown",
   "metadata": {},
   "source": [
    "<b>Conclusion:</b> The model that combines both time of day and time of a year as inputs yield the highest R^2 (.623). This makes sense in reality as the temperature varies in day (i.e. tends to be hottest at noon) and in year (i.e. tends to be hottest in the summer)"
   ]
  },
  {
   "cell_type": "code",
   "execution_count": null,
   "metadata": {},
   "outputs": [],
   "source": []
  }
 ],
 "metadata": {
  "kernelspec": {
   "display_name": "Python 3",
   "language": "python",
   "name": "python3"
  },
  "language_info": {
   "codemirror_mode": {
    "name": "ipython",
    "version": 3
   },
   "file_extension": ".py",
   "mimetype": "text/x-python",
   "name": "python",
   "nbconvert_exporter": "python",
   "pygments_lexer": "ipython3",
   "version": "3.7.4"
  }
 },
 "nbformat": 4,
 "nbformat_minor": 2
}
