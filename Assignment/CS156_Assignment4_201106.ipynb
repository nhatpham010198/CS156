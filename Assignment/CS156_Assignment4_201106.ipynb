{
 "cells": [
  {
   "cell_type": "markdown",
   "metadata": {},
   "source": [
    "# Data preprocessing"
   ]
  },
  {
   "cell_type": "code",
   "execution_count": 13,
   "metadata": {},
   "outputs": [],
   "source": [
    "from PIL import Image\n",
    "import PIL.ImageOps\n",
    "from resizeimage import resizeimage\n",
    "from glob import glob\n",
    "from random import shuffle, seed\n",
    "import numpy as np\n",
    "import pandas as pd\n",
    "import re\n",
    "from sklearn.decomposition import PCA\n",
    "from sklearn.discriminant_analysis import LinearDiscriminantAnalysis\n",
    "from sklearn.linear_model import LogisticRegression"
   ]
  },
  {
   "cell_type": "code",
   "execution_count": 14,
   "metadata": {},
   "outputs": [],
   "source": [
    "#Resize images\n",
    "def resize(path_to_image, width, height):\n",
    "        \"\"\"Resize the image and save it again.\n",
    "        :param path_to_image: os.path\n",
    "        :param width: int\n",
    "        :param height: int\n",
    "        :return: None\n",
    "        \"\"\"\n",
    "        try:\n",
    "            fd_img = open(path_to_image, 'rb')\n",
    "            img = Image.open(fd_img)\n",
    "            img = resizeimage.resize_cover(img, [int(width), int(height)])\n",
    "            img.save(path_to_image, img.format)\n",
    "            fd_img.close() \n",
    "        except:\n",
    "            pass"
   ]
  },
  {
   "cell_type": "code",
   "execution_count": 15,
   "metadata": {},
   "outputs": [
    {
     "data": {
      "text/plain": [
       "[]"
      ]
     },
     "execution_count": 15,
     "metadata": {},
     "output_type": "execute_result"
    }
   ],
   "source": [
    "men_files = glob(\"/Users/nhatpham/Downloads/Man's Clothing/*.JPEG\")\n",
    "women_files = glob(\"/Users/nhatpham/Downloads/Women_files/*.JPEG\")\n",
    "[resize(i,70,70) for i in men_files]\n",
    "[resize(i,70,70) for i in women_files]\n"
   ]
  },
  {
   "cell_type": "code",
   "execution_count": 16,
   "metadata": {},
   "outputs": [],
   "source": [
    "#flatter images to numerical data (rbg values)\n",
    "import cv2\n",
    "def flatten(file):\n",
    "    image = PIL.Image.open(file)\n",
    "    width, height = image.size\n",
    "    string_img = cv2.imread(file).reshape(1,width*height*3)\n",
    "    return(string_img[0])\n",
    "\n",
    "men_files = glob(\"/Users/nhatpham/Downloads/Man's Clothing/*.JPEG\")\n",
    "women_files = glob(\"/Users/nhatpham/Downloads/Woman's Clothing/*.JPEG\")\n",
    "raw_data = [[flatten(filename),'men'] for filename in men_files] + \\\n",
    "           [[flatten(filename),'women'] for filename in women_files]"
   ]
  },
  {
   "cell_type": "code",
   "execution_count": 17,
   "metadata": {},
   "outputs": [
    {
     "data": {
      "text/plain": [
       "array([array([227, 181,  97, 202, 158,  75, 212, 169,  88, 206, 167,  89, 229,\n",
       "       194, 121, 222, 177,  96, 188, 145,  64, 187, 148,  70, 179, 142,\n",
       "        68, 205, 171, 101, 242, 202, 127, 205, 166,  91, 204, 169,  96,\n",
       "       208, 175, 106, 250, 220, 155, 255, 219, 149, 212, 178, 108, 211,\n",
       "       177, 111, 213, 182, 119, 255, 227, 167, 238, 206, 141, 195, 165,\n",
       "       100, 193, 164, 103, 192, 165, 108, 226, 202, 148], dtype=uint8),\n",
       "       array([244, 253, 255, 140, 149, 158,  91, 100, 109, 154, 163, 172, 244,\n",
       "       253, 255, 210, 217, 226,  37,  47,  54,   0,   2,  11,   5,  15,\n",
       "        22, 182, 191, 200, 218, 224, 231,  72,  81,  85,  79,  85,  92,\n",
       "        71,  80,  84, 225, 233, 240, 235, 239, 244,  85,  92,  95,  40,\n",
       "        44,  49,  96, 103, 106, 234, 240, 245, 251, 254, 255,  87,  92,\n",
       "        93,   0,   0,   3,  98, 103, 104, 241, 246, 249], dtype=uint8),\n",
       "       array([119, 128, 165, 104, 113, 150,  97, 109, 143,  85, 100, 132,  82,\n",
       "        97, 129, 118, 127, 161, 118, 128, 162, 125, 136, 168, 105, 118,\n",
       "       150,  88, 104, 133,  85,  93, 123, 100, 110, 140, 118, 130, 158,\n",
       "        83,  97, 125,  53,  70,  96,  42,  49,  74,  65,  75,  99,  97,\n",
       "       109, 133,  69,  83, 106,  59,  76,  97,   6,  13,  32,  21,  28,\n",
       "        47,  53,  63,  81,  29,  41,  59,  42,  56,  74], dtype=uint8),\n",
       "       ..., array([255, 255, 255, ..., 255, 255, 255], dtype=uint8),\n",
       "       array([ 1,  2,  0, ...,  3, 34, 67], dtype=uint8),\n",
       "       array([245, 245, 245, ..., 230, 230, 230], dtype=uint8)],\n",
       "      dtype=object)"
      ]
     },
     "execution_count": 17,
     "metadata": {},
     "output_type": "execute_result"
    }
   ],
   "source": [
    "np.array(raw_data)[:,0]"
   ]
  },
  {
   "cell_type": "code",
   "execution_count": 18,
   "metadata": {},
   "outputs": [],
   "source": [
    "#process data to obtain x and y values to train the classification models\n",
    "data = np.array([cd for [cd,_y] in raw_data])\n",
    "labels = np.array([_y for [cd,_y] in raw_data])\n",
    "y = np.array([1 if label == 'men' else 0 for label in labels])"
   ]
  },
  {
   "cell_type": "code",
   "execution_count": 19,
   "metadata": {},
   "outputs": [
    {
     "data": {
      "text/plain": [
       "array([array([227, 181,  97, 202, 158,  75, 212, 169,  88, 206, 167,  89, 229,\n",
       "       194, 121, 222, 177,  96, 188, 145,  64, 187, 148,  70, 179, 142,\n",
       "        68, 205, 171, 101, 242, 202, 127, 205, 166,  91, 204, 169,  96,\n",
       "       208, 175, 106, 250, 220, 155, 255, 219, 149, 212, 178, 108, 211,\n",
       "       177, 111, 213, 182, 119, 255, 227, 167, 238, 206, 141, 195, 165,\n",
       "       100, 193, 164, 103, 192, 165, 108, 226, 202, 148], dtype=uint8),\n",
       "       array([244, 253, 255, 140, 149, 158,  91, 100, 109, 154, 163, 172, 244,\n",
       "       253, 255, 210, 217, 226,  37,  47,  54,   0,   2,  11,   5,  15,\n",
       "        22, 182, 191, 200, 218, 224, 231,  72,  81,  85,  79,  85,  92,\n",
       "        71,  80,  84, 225, 233, 240, 235, 239, 244,  85,  92,  95,  40,\n",
       "        44,  49,  96, 103, 106, 234, 240, 245, 251, 254, 255,  87,  92,\n",
       "        93,   0,   0,   3,  98, 103, 104, 241, 246, 249], dtype=uint8),\n",
       "       array([119, 128, 165, 104, 113, 150,  97, 109, 143,  85, 100, 132,  82,\n",
       "        97, 129, 118, 127, 161, 118, 128, 162, 125, 136, 168, 105, 118,\n",
       "       150,  88, 104, 133,  85,  93, 123, 100, 110, 140, 118, 130, 158,\n",
       "        83,  97, 125,  53,  70,  96,  42,  49,  74,  65,  75,  99,  97,\n",
       "       109, 133,  69,  83, 106,  59,  76,  97,   6,  13,  32,  21,  28,\n",
       "        47,  53,  63,  81,  29,  41,  59,  42,  56,  74], dtype=uint8),\n",
       "       ..., array([255, 255, 255, ..., 255, 255, 255], dtype=uint8),\n",
       "       array([ 1,  2,  0, ...,  3, 34, 67], dtype=uint8),\n",
       "       array([245, 245, 245, ..., 230, 230, 230], dtype=uint8)],\n",
       "      dtype=object)"
      ]
     },
     "execution_count": 19,
     "metadata": {},
     "output_type": "execute_result"
    }
   ],
   "source": [
    "data"
   ]
  },
  {
   "cell_type": "code",
   "execution_count": null,
   "metadata": {},
   "outputs": [],
   "source": [
    "y"
   ]
  },
  {
   "cell_type": "code",
   "execution_count": 9,
   "metadata": {},
   "outputs": [],
   "source": [
    "from sklearn import datasets, linear_model, metrics, model_selection\n",
    "X_train, X_test, y_train, y_test = model_selection.train_test_split(data, y, test_size = 0.2)"
   ]
  },
  {
   "cell_type": "code",
   "execution_count": 10,
   "metadata": {},
   "outputs": [
    {
     "data": {
      "text/plain": [
       "array([0, 0, 0, ..., 1, 1, 0])"
      ]
     },
     "execution_count": 10,
     "metadata": {},
     "output_type": "execute_result"
    }
   ],
   "source": [
    "y_train"
   ]
  },
  {
   "cell_type": "markdown",
   "metadata": {},
   "source": [
    "# Classify with logistic regresion without any data transformation"
   ]
  },
  {
   "cell_type": "code",
   "execution_count": 11,
   "metadata": {},
   "outputs": [
    {
     "name": "stderr",
     "output_type": "stream",
     "text": [
      "/anaconda3/lib/python3.7/site-packages/sklearn/utils/validation.py:73: DataConversionWarning: A column-vector y was passed when a 1d array was expected. Please change the shape of y to (n_samples, ), for example using ravel().\n",
      "  return f(**kwargs)\n",
      "/anaconda3/lib/python3.7/site-packages/sklearn/linear_model/_logistic.py:764: ConvergenceWarning: lbfgs failed to converge (status=1):\n",
      "STOP: TOTAL NO. of ITERATIONS REACHED LIMIT.\n",
      "\n",
      "Increase the number of iterations (max_iter) or scale the data as shown in:\n",
      "    https://scikit-learn.org/stable/modules/preprocessing.html\n",
      "Please also refer to the documentation for alternative solver options:\n",
      "    https://scikit-learn.org/stable/modules/linear_model.html#logistic-regression\n",
      "  extra_warning_msg=_LOGISTIC_SOLVER_CONVERGENCE_MSG)\n"
     ]
    },
    {
     "data": {
      "text/plain": [
       "LogisticRegression()"
      ]
     },
     "execution_count": 11,
     "metadata": {},
     "output_type": "execute_result"
    }
   ],
   "source": [
    "#creait a glositic regression model\n",
    "lgr = LogisticRegression()\n",
    "#train the model\n",
    "lgr.fit(X_train,y_train.reshape(-1,1))"
   ]
  },
  {
   "cell_type": "code",
   "execution_count": 12,
   "metadata": {},
   "outputs": [],
   "source": [
    "#predict the test set\n",
    "lgr_prediction = lgr.predict(X_test)"
   ]
  },
  {
   "cell_type": "code",
   "execution_count": 13,
   "metadata": {},
   "outputs": [
    {
     "name": "stdout",
     "output_type": "stream",
     "text": [
      "Classification report for logistic regression LogisticRegression():\n",
      "              precision    recall  f1-score   support\n",
      "\n",
      "           0       0.61      0.61      0.61       259\n",
      "           1       0.59      0.58      0.58       244\n",
      "\n",
      "    accuracy                           0.60       503\n",
      "   macro avg       0.60      0.60      0.60       503\n",
      "weighted avg       0.60      0.60      0.60       503\n",
      "\n",
      "\n",
      "\n",
      "TRAIN SET\n",
      "accuracy is 0.9875559980089597\n",
      "error is 0.012444001991040343\n",
      "\n",
      "TEST SET\n",
      "accuracy is 0.5964214711729622\n",
      "error is 0.4035785288270378\n",
      "\n",
      "f-score is 0.5964214711729622\n",
      "Confusion matrix:\n",
      "[[159 100]\n",
      " [103 141]]\n"
     ]
    }
   ],
   "source": [
    "from sklearn import metrics\n",
    "import matplotlib.pyplot as plt\n",
    "print(\"Classification report for logistic regression %s:\\n%s\\n\"\n",
    "      % (lgr, metrics.classification_report(y_test, lgr_prediction)))\n",
    "\n",
    "print(\"\")\n",
    "print(\"TRAIN SET\")\n",
    "print(\"accuracy is {}\".format(metrics.accuracy_score(y_train,lgr.predict(X_train))))\n",
    "print(\"error is {}\".format(1-metrics.accuracy_score(y_train,lgr.predict(X_train))))\n",
    "print(\"\")\n",
    "print(\"TEST SET\")\n",
    "print(\"accuracy is {}\".format(metrics.accuracy_score(y_test,lgr_prediction)))\n",
    "print(\"error is {}\".format(1-metrics.accuracy_score(y_test,lgr_prediction)))\n",
    "print(\"\")\n",
    "\n",
    "\n",
    "print(\"f-score is {}\".format(metrics.accuracy_score(y_test,lgr_prediction)))\n",
    "disp = metrics.plot_confusion_matrix(lgr, X_test, y_test)\n",
    "disp.figure_.suptitle(\"Confusion Matrix\")\n",
    "print(\"Confusion matrix:\\n%s\" % disp.confusion_matrix)\n"
   ]
  },
  {
   "cell_type": "markdown",
   "metadata": {},
   "source": [
    "<b>Model interpretation:</b> This is a classic application of logistic regression where images and label are transformed to numerical format (input has 3x70x70 = 14700 variables). The model uses the transformed data to learn how to classify man's and woman's clothing. Applying the model on the test set yields an accuracy rate of 0.596"
   ]
  },
  {
   "cell_type": "markdown",
   "metadata": {},
   "source": [
    "# LDA"
   ]
  },
  {
   "cell_type": "code",
   "execution_count": 14,
   "metadata": {},
   "outputs": [],
   "source": [
    "from sklearn.discriminant_analysis import LinearDiscriminantAnalysis\n",
    "#fit lda process on training data and transform training data\n",
    "lda = LinearDiscriminantAnalysis(n_components = 1)\n",
    "X_train_lda = lda.fit_transform(X_train, y_train)\n"
   ]
  },
  {
   "cell_type": "code",
   "execution_count": 15,
   "metadata": {},
   "outputs": [
    {
     "data": {
      "text/plain": [
       "LogisticRegression()"
      ]
     },
     "execution_count": 15,
     "metadata": {},
     "output_type": "execute_result"
    }
   ],
   "source": [
    "# train model\n",
    "lgr.fit(X_train_lda,y_train)"
   ]
  },
  {
   "cell_type": "code",
   "execution_count": 16,
   "metadata": {},
   "outputs": [],
   "source": [
    "#transform test data\n",
    "X_test_lda = lda.transform(X_test)\n",
    "\n",
    "#predict on test data\n",
    "lda_prediction = lgr.predict(X_test_lda)"
   ]
  },
  {
   "cell_type": "code",
   "execution_count": 17,
   "metadata": {},
   "outputs": [
    {
     "name": "stdout",
     "output_type": "stream",
     "text": [
      "Classification report for logistic regression LogisticRegression():\n",
      "              precision    recall  f1-score   support\n",
      "\n",
      "           0       0.56      0.64      0.60       259\n",
      "           1       0.55      0.46      0.50       244\n",
      "\n",
      "    accuracy                           0.55       503\n",
      "   macro avg       0.55      0.55      0.55       503\n",
      "weighted avg       0.55      0.55      0.55       503\n",
      "\n",
      "\n",
      "\n",
      "TRAIN SET\n",
      "accuracy is 0.9676455948232952\n",
      "error is 0.03235440517670485\n",
      "\n",
      "TEST SET\n",
      "accuracy is 0.5546719681908548\n",
      "error is 0.44532803180914515\n",
      "\n",
      "Confusion matrix:\n",
      "[[167  92]\n",
      " [132 112]]\n"
     ]
    },
    {
     "data": {
      "image/png": "[encoded data removed]",
      "text/plain": [
       "<Figure size 432x288 with 2 Axes>"
      ]
     },
     "metadata": {
      "needs_background": "light"
     },
     "output_type": "display_data"
    }
   ],
   "source": [
    "print(\"Classification report for logistic regression %s:\\n%s\\n\"\n",
    "      % (lgr, metrics.classification_report(y_test, lda_prediction)))\n",
    "print(\"\")\n",
    "print(\"TRAIN SET\")\n",
    "print(\"accuracy is {}\".format(metrics.accuracy_score(y_train,lgr.predict(X_train_lda))))\n",
    "print(\"error is {}\".format(1-metrics.accuracy_score(y_train,lgr.predict(X_train_lda))))\n",
    "print(\"\")\n",
    "print(\"TEST SET\")\n",
    "print(\"accuracy is {}\".format(metrics.accuracy_score(y_test,lda_prediction)))\n",
    "print(\"error is {}\".format(1-metrics.accuracy_score(y_test,lda_prediction)))\n",
    "print(\"\")\n",
    "disp = metrics.plot_confusion_matrix(lgr, X_test_lda, y_test)\n",
    "disp.figure_.suptitle(\"Confusion Matrix\")\n",
    "print(\"Confusion matrix:\\n%s\" % disp.confusion_matrix)"
   ]
  },
  {
   "cell_type": "markdown",
   "metadata": {},
   "source": [
    "<b>Model interpretation:</b> The difference between this model and the logistic regression explained above is data, after being transformed to numerical format, have to go under another transformation called LDA. LDA process 'rotates' the orginal coordinate to maximize the difference between classes as a way to improve the accuracy of classification. After the coordinate rotation, data will be mapped with new values corresponding to their position in the new coordinate. Then these new values will be used to train a logistic regression model. The additional data transformation using LDA, however, decreases the accuracy of the classification on test set to 0.55."
   ]
  },
  {
   "cell_type": "markdown",
   "metadata": {},
   "source": [
    "# PCA"
   ]
  },
  {
   "cell_type": "code",
   "execution_count": 18,
   "metadata": {},
   "outputs": [],
   "source": [
    "#fit an transform training data using PCA process\n",
    "pca = PCA(n_components=10, random_state=0)\n",
    "X_train_pca = pca.fit_transform(X_train)"
   ]
  },
  {
   "cell_type": "code",
   "execution_count": 19,
   "metadata": {},
   "outputs": [
    {
     "data": {
      "text/plain": [
       "LogisticRegression()"
      ]
     },
     "execution_count": 19,
     "metadata": {},
     "output_type": "execute_result"
    }
   ],
   "source": [
    "lgr.fit(X_train_pca,y_train)"
   ]
  },
  {
   "cell_type": "code",
   "execution_count": 20,
   "metadata": {},
   "outputs": [],
   "source": [
    "#transform test data and make prediction\n",
    "X_test_pca = pca.transform(X_test)\n",
    "pca_prediction = lgr.predict(X_test_pca)"
   ]
  },
  {
   "cell_type": "code",
   "execution_count": 21,
   "metadata": {},
   "outputs": [
    {
     "name": "stdout",
     "output_type": "stream",
     "text": [
      "Classification report for logistic regression LogisticRegression():\n",
      "              precision    recall  f1-score   support\n",
      "\n",
      "           0       0.61      0.64      0.62       259\n",
      "           1       0.59      0.56      0.58       244\n",
      "\n",
      "    accuracy                           0.60       503\n",
      "   macro avg       0.60      0.60      0.60       503\n",
      "weighted avg       0.60      0.60      0.60       503\n",
      "\n",
      "\n",
      "\n",
      "TRAIN SET\n",
      "accuracy is 0.6480836236933798\n",
      "error is 0.3519163763066202\n",
      "\n",
      "TEST SET\n",
      "accuracy is 0.6003976143141153\n",
      "error is 0.3996023856858847\n",
      "\n",
      "Confusion matrix:\n",
      "[[166  93]\n",
      " [108 136]]\n"
     ]
    },
    {
     "data": {
      "image/png": "[encoded data removed]",
      "text/plain": [
       "<Figure size 432x288 with 2 Axes>"
      ]
     },
     "metadata": {
      "needs_background": "light"
     },
     "output_type": "display_data"
    }
   ],
   "source": [
    "print(\"Classification report for logistic regression %s:\\n%s\\n\"\n",
    "      % (lgr, metrics.classification_report(y_test, pca_prediction)))\n",
    "print(\"\")\n",
    "print(\"TRAIN SET\")\n",
    "print(\"accuracy is {}\".format(metrics.accuracy_score(y_train,lgr.predict(X_train_pca))))\n",
    "print(\"error is {}\".format(1-metrics.accuracy_score(y_train,lgr.predict(X_train_pca))))\n",
    "print(\"\")\n",
    "print(\"TEST SET\")\n",
    "print(\"accuracy is {}\".format(metrics.accuracy_score(y_test,pca_prediction)))\n",
    "print(\"error is {}\".format(1-metrics.accuracy_score(y_test,pca_prediction)))\n",
    "print(\"\")\n",
    "\n",
    "disp = metrics.plot_confusion_matrix(lgr, X_test_pca, y_test)\n",
    "disp.figure_.suptitle(\"Confusion Matrix\")\n",
    "print(\"Confusion matrix:\\n%s\" % disp.confusion_matrix)"
   ]
  },
  {
   "cell_type": "markdown",
   "metadata": {},
   "source": [
    "<b>Model interpretation:</b> Similarly to LDA model above, data in this PCA model, after being transformed to numerical format, have to go under another transformation. Also, PCA rotates the original coordinate, like LDA, but to maximize variance. The major difference between PCA and LDA processes is PCA simplifies data from 14700 variables to n most powerful variables for the classification purpose (n is a paramenter of PCA process and is 10 in this case). After PCA transformation, the simplified data will be used to train logistic regression model. This model yields the best accuracy on test set, 0.6 (I rerun the code many times and PCA model always performed best). The reason is that PCA model ingores noises caused by unimportant variables in inputs (by eliminating such variables out of the training process). As a result, its prediction becomes more accurate."
   ]
  },
  {
   "cell_type": "markdown",
   "metadata": {},
   "source": [
    "# Conclusion"
   ]
  },
  {
   "cell_type": "markdown",
   "metadata": {},
   "source": [
    "I would prefer using PCA model over the others because \n",
    "- the higher accuracy \n",
    "- it takes less computation power to train and to predict (way fewer predictors in inputs)\n",
    "- the simplification of inputs (having fewer variables) makes it more intuitive and easier to present to other people, especially who dont have machine learning background"
   ]
  },
  {
   "cell_type": "code",
   "execution_count": null,
   "metadata": {},
   "outputs": [],
   "source": []
  }
 ],
 "metadata": {
  "kernelspec": {
   "display_name": "Python 3",
   "language": "python",
   "name": "python3"
  },
  "language_info": {
   "codemirror_mode": {
    "name": "ipython",
    "version": 3
   },
   "file_extension": ".py",
   "mimetype": "text/x-python",
   "name": "python",
   "nbconvert_exporter": "python",
   "pygments_lexer": "ipython3",
   "version": "3.7.4"
  }
 },
 "nbformat": 4,
 "nbformat_minor": 2
}
