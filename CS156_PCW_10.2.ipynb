{
 "cells": [
  {
   "cell_type": "code",
   "execution_count": 3,
   "metadata": {},
   "outputs": [],
   "source": [
    "import numpy as np"
   ]
  },
  {
   "cell_type": "code",
   "execution_count": 50,
   "metadata": {},
   "outputs": [],
   "source": [
    "def memory(x):\n",
    "    \"\"\"\n",
    "    input: x is an m*n array of n vectors m*1, so \n",
    "    output: an associative matrix n*n corresponding to x\n",
    "    \"\"\"\n",
    "    m = x.shape[0]\n",
    "    n = x.shape[1]\n",
    "    associative = np.array([[0 for _ in range(m)] for _ in range(m)])\n",
    "    for k in range(n):\n",
    "        for i in range(m):\n",
    "            a = 0\n",
    "            for j in range(i+1,m):\n",
    "                a += x[i,k]*x[j,k]\n",
    "            \n",
    "            associative[i,j] = associative[j,i] = a\n",
    "#         print(associative)\n",
    "    return(associative)"
   ]
  },
  {
   "cell_type": "code",
   "execution_count": 51,
   "metadata": {},
   "outputs": [
    {
     "data": {
      "text/plain": [
       "array([ 0,  0,  0, -2])"
      ]
     },
     "execution_count": 51,
     "metadata": {},
     "output_type": "execute_result"
    }
   ],
   "source": [
    "x = np.array([[1,-1,-1,1],[1,1,-1,-1]]).T\n",
    "memory(x)[:,1]"
   ]
  },
  {
   "cell_type": "code",
   "execution_count": 52,
   "metadata": {},
   "outputs": [],
   "source": [
    "def recall(x):\n",
    "    m = x.shape[0]\n",
    "    n = x.shape[1]\n",
    "    associative = memory(x)\n",
    "#     while Condition is not satisfied (Im not sure what condition should be)\n",
    "    for k in range(n):\n",
    "        for j in range(m):\n",
    "            if np.dot(x[:,k],associative[j,:]) >= 0:\n",
    "                x[j,k] = 1\n",
    "            else:\n",
    "                x[j,k] = -1\n",
    "    return(x)\n"
   ]
  },
  {
   "cell_type": "code",
   "execution_count": 54,
   "metadata": {},
   "outputs": [
    {
     "data": {
      "text/plain": [
       "array([[-1,  1],\n",
       "       [-1,  1],\n",
       "       [ 1, -1],\n",
       "       [ 1, -1]])"
      ]
     },
     "execution_count": 54,
     "metadata": {},
     "output_type": "execute_result"
    }
   ],
   "source": [
    "recall(x)"
   ]
  },
  {
   "cell_type": "code",
   "execution_count": 61,
   "metadata": {},
   "outputs": [
    {
     "data": {
      "text/plain": [
       "1.5051499783199058"
      ]
     },
     "execution_count": 61,
     "metadata": {},
     "output_type": "execute_result"
    }
   ],
   "source": [
    "def capacity(n):\n",
    "    return (n/(2*np.log(n)/np.log(2)))\n",
    "#the function is extracted from https://en.wikipedia.org/wiki/Hopfield_network#:~:text=up%20to%20zero-,Capacity,dependent%20on%20neurons%20and%20connections.\n",
    "capacity(10)"
   ]
  },
  {
   "cell_type": "code",
   "execution_count": 62,
   "metadata": {},
   "outputs": [
    {
     "name": "stderr",
     "output_type": "stream",
     "text": [
      "/anaconda3/lib/python3.7/site-packages/ipykernel_launcher.py:2: RuntimeWarning: divide by zero encountered in log\n",
      "  \n",
      "/anaconda3/lib/python3.7/site-packages/ipykernel_launcher.py:2: RuntimeWarning: divide by zero encountered in true_divide\n",
      "  \n"
     ]
    },
    {
     "data": {
      "text/plain": [
       "[<matplotlib.lines.Line2D at 0x10f7ab990>]"
      ]
     },
     "execution_count": 62,
     "metadata": {},
     "output_type": "execute_result"
    },
    {
     "data": {
      "image/png": "[encoded data removed]",
      "text/plain": [
       "<Figure size 432x288 with 1 Axes>"
      ]
     },
     "metadata": {
      "needs_background": "light"
     },
     "output_type": "display_data"
    }
   ],
   "source": [
    "import matplotlib.pyplot as plt\n",
    "x = np.array(range(1000))\n",
    "y = capacity(x)\n",
    "plt.plot(x,y)\n",
    "#the capacity scale linearly"
   ]
  },
  {
   "cell_type": "code",
   "execution_count": null,
   "metadata": {},
   "outputs": [],
   "source": []
  }
 ],
 "metadata": {
  "kernelspec": {
   "display_name": "Python 3",
   "language": "python",
   "name": "python3"
  },
  "language_info": {
   "codemirror_mode": {
    "name": "ipython",
    "version": 3
   },
   "file_extension": ".py",
   "mimetype": "text/x-python",
   "name": "python",
   "nbconvert_exporter": "python",
   "pygments_lexer": "ipython3",
   "version": "3.7.4"
  }
 },
 "nbformat": 4,
 "nbformat_minor": 2
}
