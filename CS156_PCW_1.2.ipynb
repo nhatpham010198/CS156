{
 "cells": [
  {
   "cell_type": "markdown",
   "metadata": {},
   "source": [
    "# Problem 1"
   ]
  },
  {
   "cell_type": "code",
   "execution_count": 108,
   "metadata": {},
   "outputs": [
    {
     "name": "stderr",
     "output_type": "stream",
     "text": [
      "/anaconda3/lib/python3.7/site-packages/IPython/core/interactiveshell.py:3058: DtypeWarning: Columns (3) have mixed types. Specify dtype option on import or set low_memory=False.\n",
      "  interactivity=interactivity, compiler=compiler, result=result)\n"
     ]
    }
   ],
   "source": [
    "import pandas as pd\n",
    "df = pd.read_csv('benchmarks.txt', sep=\",\",header=0)\n"
   ]
  },
  {
   "cell_type": "code",
   "execution_count": 109,
   "metadata": {},
   "outputs": [],
   "source": [
    "from datetime import date \n",
    "\n",
    "def dt(x):\n",
    "    try:\n",
    "        date_string = x.split('-')[1]\n",
    "        if len(list(date_string)) == 6:\n",
    "            date_string = '19' + date_string\n",
    "        now = date(*map(int, [date_string[:4], date_string[4:6], date_string[6:]]))\n",
    "        return now\n",
    "    except:\n",
    "        return 'n/a'"
   ]
  },
  {
   "cell_type": "code",
   "execution_count": 114,
   "metadata": {},
   "outputs": [
    {
     "name": "stderr",
     "output_type": "stream",
     "text": [
      "/anaconda3/lib/python3.7/site-packages/ipykernel_launcher.py:1: SettingWithCopyWarning: \n",
      "A value is trying to be set on a copy of a slice from a DataFrame.\n",
      "Try using .loc[row_indexer,col_indexer] = value instead\n",
      "\n",
      "See the caveats in the documentation: http://pandas.pydata.org/pandas-docs/stable/user_guide/indexing.html#returning-a-view-versus-a-copy\n",
      "  \"\"\"Entry point for launching an IPython kernel.\n"
     ]
    },
    {
     "data": {
      "text/html": [
       "<div>\n",
       "<style scoped>\n",
       "    .dataframe tbody tr th:only-of-type {\n",
       "        vertical-align: middle;\n",
       "    }\n",
       "\n",
       "    .dataframe tbody tr th {\n",
       "        vertical-align: top;\n",
       "    }\n",
       "\n",
       "    .dataframe thead th {\n",
       "        text-align: right;\n",
       "    }\n",
       "</style>\n",
       "<table border=\"1\" class=\"dataframe\">\n",
       "  <thead>\n",
       "    <tr style=\"text-align: right;\">\n",
       "      <th></th>\n",
       "      <th>testID</th>\n",
       "      <th>benchName</th>\n",
       "      <th>base</th>\n",
       "      <th>peak</th>\n",
       "      <th>Date</th>\n",
       "    </tr>\n",
       "  </thead>\n",
       "  <tbody>\n",
       "    <tr>\n",
       "      <td>0</td>\n",
       "      <td>cpu95-19990104-03254</td>\n",
       "      <td>101.tomcatv</td>\n",
       "      <td>19.40</td>\n",
       "      <td>27.1</td>\n",
       "      <td>1999-01-04</td>\n",
       "    </tr>\n",
       "    <tr>\n",
       "      <td>1</td>\n",
       "      <td>cpu95-19990104-03254</td>\n",
       "      <td>102.swim</td>\n",
       "      <td>27.20</td>\n",
       "      <td>34.8</td>\n",
       "      <td>1999-01-04</td>\n",
       "    </tr>\n",
       "    <tr>\n",
       "      <td>2</td>\n",
       "      <td>cpu95-19990104-03254</td>\n",
       "      <td>103.su2cor</td>\n",
       "      <td>10.10</td>\n",
       "      <td>9.98</td>\n",
       "      <td>1999-01-04</td>\n",
       "    </tr>\n",
       "    <tr>\n",
       "      <td>3</td>\n",
       "      <td>cpu95-19990104-03254</td>\n",
       "      <td>104.hydro2d</td>\n",
       "      <td>8.58</td>\n",
       "      <td>8.61</td>\n",
       "      <td>1999-01-04</td>\n",
       "    </tr>\n",
       "    <tr>\n",
       "      <td>4</td>\n",
       "      <td>cpu95-19990104-03254</td>\n",
       "      <td>107.mgrid</td>\n",
       "      <td>8.94</td>\n",
       "      <td>9.44</td>\n",
       "      <td>1999-01-04</td>\n",
       "    </tr>\n",
       "    <tr>\n",
       "      <td>...</td>\n",
       "      <td>...</td>\n",
       "      <td>...</td>\n",
       "      <td>...</td>\n",
       "      <td>...</td>\n",
       "      <td>...</td>\n",
       "    </tr>\n",
       "    <tr>\n",
       "      <td>136990</td>\n",
       "      <td>cpu2006-20120102-19319</td>\n",
       "      <td>462.libquantum</td>\n",
       "      <td>418.00</td>\n",
       "      <td>418</td>\n",
       "      <td>2012-01-02</td>\n",
       "    </tr>\n",
       "    <tr>\n",
       "      <td>136991</td>\n",
       "      <td>cpu2006-20120102-19319</td>\n",
       "      <td>464.h264ref</td>\n",
       "      <td>46.10</td>\n",
       "      <td>50.1</td>\n",
       "      <td>2012-01-02</td>\n",
       "    </tr>\n",
       "    <tr>\n",
       "      <td>136992</td>\n",
       "      <td>cpu2006-20120102-19319</td>\n",
       "      <td>471.omnetpp</td>\n",
       "      <td>19.10</td>\n",
       "      <td>20.2</td>\n",
       "      <td>2012-01-02</td>\n",
       "    </tr>\n",
       "    <tr>\n",
       "      <td>136993</td>\n",
       "      <td>cpu2006-20120102-19319</td>\n",
       "      <td>473.astar</td>\n",
       "      <td>21.10</td>\n",
       "      <td>21.1</td>\n",
       "      <td>2012-01-02</td>\n",
       "    </tr>\n",
       "    <tr>\n",
       "      <td>136994</td>\n",
       "      <td>cpu2006-20120102-19319</td>\n",
       "      <td>483.xalancbmk</td>\n",
       "      <td>28.80</td>\n",
       "      <td>28.8</td>\n",
       "      <td>2012-01-02</td>\n",
       "    </tr>\n",
       "  </tbody>\n",
       "</table>\n",
       "<p>136417 rows × 5 columns</p>\n",
       "</div>"
      ],
      "text/plain": [
       "                        testID       benchName    base  peak        Date\n",
       "0         cpu95-19990104-03254     101.tomcatv   19.40  27.1  1999-01-04\n",
       "1         cpu95-19990104-03254        102.swim   27.20  34.8  1999-01-04\n",
       "2         cpu95-19990104-03254      103.su2cor   10.10  9.98  1999-01-04\n",
       "3         cpu95-19990104-03254     104.hydro2d    8.58  8.61  1999-01-04\n",
       "4         cpu95-19990104-03254       107.mgrid    8.94  9.44  1999-01-04\n",
       "...                        ...             ...     ...   ...         ...\n",
       "136990  cpu2006-20120102-19319  462.libquantum  418.00   418  2012-01-02\n",
       "136991  cpu2006-20120102-19319     464.h264ref   46.10  50.1  2012-01-02\n",
       "136992  cpu2006-20120102-19319     471.omnetpp   19.10  20.2  2012-01-02\n",
       "136993  cpu2006-20120102-19319       473.astar   21.10  21.1  2012-01-02\n",
       "136994  cpu2006-20120102-19319   483.xalancbmk   28.80  28.8  2012-01-02\n",
       "\n",
       "[136417 rows x 5 columns]"
      ]
     },
     "execution_count": 114,
     "metadata": {},
     "output_type": "execute_result"
    }
   ],
   "source": [
    "df['Date'] = df.testID.apply(dt)\n",
    "df = df[df.Date != 'n/a']\n",
    "df"
   ]
  },
  {
   "cell_type": "code",
   "execution_count": 115,
   "metadata": {},
   "outputs": [
    {
     "data": {
      "text/html": [
       "<div>\n",
       "<style scoped>\n",
       "    .dataframe tbody tr th:only-of-type {\n",
       "        vertical-align: middle;\n",
       "    }\n",
       "\n",
       "    .dataframe tbody tr th {\n",
       "        vertical-align: top;\n",
       "    }\n",
       "\n",
       "    .dataframe thead th {\n",
       "        text-align: right;\n",
       "    }\n",
       "</style>\n",
       "<table border=\"1\" class=\"dataframe\">\n",
       "  <thead>\n",
       "    <tr style=\"text-align: right;\">\n",
       "      <th></th>\n",
       "      <th>testID</th>\n",
       "      <th>benchName</th>\n",
       "      <th>base</th>\n",
       "      <th>peak</th>\n",
       "      <th>Date</th>\n",
       "      <th>time</th>\n",
       "    </tr>\n",
       "  </thead>\n",
       "  <tbody>\n",
       "    <tr>\n",
       "      <td>0</td>\n",
       "      <td>cpu95-19990104-03254</td>\n",
       "      <td>101.tomcatv</td>\n",
       "      <td>19.40</td>\n",
       "      <td>27.1</td>\n",
       "      <td>1999-01-04</td>\n",
       "      <td>2.928767</td>\n",
       "    </tr>\n",
       "    <tr>\n",
       "      <td>1</td>\n",
       "      <td>cpu95-19990104-03254</td>\n",
       "      <td>102.swim</td>\n",
       "      <td>27.20</td>\n",
       "      <td>34.8</td>\n",
       "      <td>1999-01-04</td>\n",
       "      <td>2.928767</td>\n",
       "    </tr>\n",
       "    <tr>\n",
       "      <td>2</td>\n",
       "      <td>cpu95-19990104-03254</td>\n",
       "      <td>103.su2cor</td>\n",
       "      <td>10.10</td>\n",
       "      <td>9.98</td>\n",
       "      <td>1999-01-04</td>\n",
       "      <td>2.928767</td>\n",
       "    </tr>\n",
       "    <tr>\n",
       "      <td>3</td>\n",
       "      <td>cpu95-19990104-03254</td>\n",
       "      <td>104.hydro2d</td>\n",
       "      <td>8.58</td>\n",
       "      <td>8.61</td>\n",
       "      <td>1999-01-04</td>\n",
       "      <td>2.928767</td>\n",
       "    </tr>\n",
       "    <tr>\n",
       "      <td>4</td>\n",
       "      <td>cpu95-19990104-03254</td>\n",
       "      <td>107.mgrid</td>\n",
       "      <td>8.94</td>\n",
       "      <td>9.44</td>\n",
       "      <td>1999-01-04</td>\n",
       "      <td>2.928767</td>\n",
       "    </tr>\n",
       "    <tr>\n",
       "      <td>...</td>\n",
       "      <td>...</td>\n",
       "      <td>...</td>\n",
       "      <td>...</td>\n",
       "      <td>...</td>\n",
       "      <td>...</td>\n",
       "      <td>...</td>\n",
       "    </tr>\n",
       "    <tr>\n",
       "      <td>136990</td>\n",
       "      <td>cpu2006-20120102-19319</td>\n",
       "      <td>462.libquantum</td>\n",
       "      <td>418.00</td>\n",
       "      <td>418</td>\n",
       "      <td>2012-01-02</td>\n",
       "      <td>15.931507</td>\n",
       "    </tr>\n",
       "    <tr>\n",
       "      <td>136991</td>\n",
       "      <td>cpu2006-20120102-19319</td>\n",
       "      <td>464.h264ref</td>\n",
       "      <td>46.10</td>\n",
       "      <td>50.1</td>\n",
       "      <td>2012-01-02</td>\n",
       "      <td>15.931507</td>\n",
       "    </tr>\n",
       "    <tr>\n",
       "      <td>136992</td>\n",
       "      <td>cpu2006-20120102-19319</td>\n",
       "      <td>471.omnetpp</td>\n",
       "      <td>19.10</td>\n",
       "      <td>20.2</td>\n",
       "      <td>2012-01-02</td>\n",
       "      <td>15.931507</td>\n",
       "    </tr>\n",
       "    <tr>\n",
       "      <td>136993</td>\n",
       "      <td>cpu2006-20120102-19319</td>\n",
       "      <td>473.astar</td>\n",
       "      <td>21.10</td>\n",
       "      <td>21.1</td>\n",
       "      <td>2012-01-02</td>\n",
       "      <td>15.931507</td>\n",
       "    </tr>\n",
       "    <tr>\n",
       "      <td>136994</td>\n",
       "      <td>cpu2006-20120102-19319</td>\n",
       "      <td>483.xalancbmk</td>\n",
       "      <td>28.80</td>\n",
       "      <td>28.8</td>\n",
       "      <td>2012-01-02</td>\n",
       "      <td>15.931507</td>\n",
       "    </tr>\n",
       "  </tbody>\n",
       "</table>\n",
       "<p>136417 rows × 6 columns</p>\n",
       "</div>"
      ],
      "text/plain": [
       "                        testID       benchName    base  peak        Date  \\\n",
       "0         cpu95-19990104-03254     101.tomcatv   19.40  27.1  1999-01-04   \n",
       "1         cpu95-19990104-03254        102.swim   27.20  34.8  1999-01-04   \n",
       "2         cpu95-19990104-03254      103.su2cor   10.10  9.98  1999-01-04   \n",
       "3         cpu95-19990104-03254     104.hydro2d    8.58  8.61  1999-01-04   \n",
       "4         cpu95-19990104-03254       107.mgrid    8.94  9.44  1999-01-04   \n",
       "...                        ...             ...     ...   ...         ...   \n",
       "136990  cpu2006-20120102-19319  462.libquantum  418.00   418  2012-01-02   \n",
       "136991  cpu2006-20120102-19319     464.h264ref   46.10  50.1  2012-01-02   \n",
       "136992  cpu2006-20120102-19319     471.omnetpp   19.10  20.2  2012-01-02   \n",
       "136993  cpu2006-20120102-19319       473.astar   21.10  21.1  2012-01-02   \n",
       "136994  cpu2006-20120102-19319   483.xalancbmk   28.80  28.8  2012-01-02   \n",
       "\n",
       "             time  \n",
       "0        2.928767  \n",
       "1        2.928767  \n",
       "2        2.928767  \n",
       "3        2.928767  \n",
       "4        2.928767  \n",
       "...           ...  \n",
       "136990  15.931507  \n",
       "136991  15.931507  \n",
       "136992  15.931507  \n",
       "136993  15.931507  \n",
       "136994  15.931507  \n",
       "\n",
       "[136417 rows x 6 columns]"
      ]
     },
     "execution_count": 115,
     "metadata": {},
     "output_type": "execute_result"
    }
   ],
   "source": [
    "first_date = min(df.Date)\n",
    "df['time'] = df.Date.apply(lambda x: (x-first_date).days/365)\n",
    "df"
   ]
  },
  {
   "cell_type": "code",
   "execution_count": 116,
   "metadata": {},
   "outputs": [
    {
     "data": {
      "image/png": "[encoded data removed]",
      "text/plain": [
       "<Figure size 432x288 with 1 Axes>"
      ]
     },
     "metadata": {
      "needs_background": "light"
     },
     "output_type": "display_data"
    }
   ],
   "source": [
    "from collections import Counter\n",
    "most_popular = max(Counter(df.benchName))\n",
    "df = df[df.benchName == most_popular]\n",
    "import matplotlib.pyplot as plt\n",
    "plt.scatter(df.time, df.base,  color='black')\n",
    "plt.show()"
   ]
  },
  {
   "cell_type": "code",
   "execution_count": 141,
   "metadata": {},
   "outputs": [
    {
     "data": {
      "text/plain": [
       "[<matplotlib.lines.Line2D at 0x1240854d0>]"
      ]
     },
     "execution_count": 141,
     "metadata": {},
     "output_type": "execute_result"
    },
    {
     "data": {
      "image/png": "[encoded data removed]",
      "text/plain": [
       "<Figure size 432x288 with 1 Axes>"
      ]
     },
     "metadata": {
      "needs_background": "light"
     },
     "output_type": "display_data"
    }
   ],
   "source": [
    "from sklearn import datasets, linear_model, metrics, model_selection\n",
    "\n",
    "regr = linear_model.LinearRegression()\n",
    "X_train, X_test, y_train, y_test = model_selection.train_test_split(x,y,test_size = 0.1)\n",
    "# Train the model using the training sets\n",
    "# x = np.array().reshape(-1,1)\n",
    "# y = np.array(df['base']).reshape(-1,1)\n",
    "regr.fit(X_train,y_train)\n",
    "predict = regr.predict(X_test)\n",
    "\n",
    "plt.scatter(X_train,y_train,  color='black', alpha = 0.1)\n",
    "\n",
    "plt.plot(X_test,predict, linewidth = 3, color = 'red')\n",
    "\n",
    "# plt.xticks(())\n",
    "# plt.yticks(())\n"
   ]
  },
  {
   "cell_type": "code",
   "execution_count": 140,
   "metadata": {},
   "outputs": [
    {
     "data": {
      "text/plain": [
       "[<matplotlib.lines.Line2D at 0x124085290>]"
      ]
     },
     "execution_count": 140,
     "metadata": {},
     "output_type": "execute_result"
    },
    {
     "data": {
      "image/png": "[encoded data removed]",
      "text/plain": [
       "<Figure size 432x288 with 1 Axes>"
      ]
     },
     "metadata": {
      "needs_background": "light"
     },
     "output_type": "display_data"
    }
   ],
   "source": [
    "plt.scatter(X_test,y_test,  color='blue', alpha = 0.1)\n",
    "plt.plot(X_test,predict, linewidth = 3, color = 'red')"
   ]
  },
  {
   "cell_type": "code",
   "execution_count": 72,
   "metadata": {},
   "outputs": [
    {
     "data": {
      "text/plain": [
       "numpy.ndarray"
      ]
     },
     "execution_count": 72,
     "metadata": {},
     "output_type": "execute_result"
    }
   ],
   "source": [
    "type(date[0])"
   ]
  },
  {
   "cell_type": "markdown",
   "metadata": {},
   "source": [
    "# Problem 2"
   ]
  },
  {
   "cell_type": "code",
   "execution_count": 42,
   "metadata": {},
   "outputs": [
    {
     "data": {
      "text/plain": [
       "array([[ 0.,  0.,  0., 12., 13.,  5.,  0.,  0.,  0.,  0.,  0., 11., 16.,\n",
       "         9.,  0.,  0.,  0.,  0.,  3., 15., 16.,  6.,  0.,  0.,  0.,  7.,\n",
       "        15., 16., 16.,  2.,  0.,  0.,  0.,  0.,  1., 16., 16.,  3.,  0.,\n",
       "         0.,  0.,  0.,  1., 16., 16.,  6.,  0.,  0.,  0.,  0.,  1., 16.,\n",
       "        16.,  6.,  0.,  0.,  0.,  0.,  0., 11., 16., 10.,  0.,  0.]])"
      ]
     },
     "execution_count": 42,
     "metadata": {},
     "output_type": "execute_result"
    }
   ],
   "source": [
    "from sklearn import datasets\n",
    "iris = datasets.load_iris()\n",
    "digits = datasets.load_digits()\n"
   ]
  },
  {
   "cell_type": "code",
   "execution_count": 23,
   "metadata": {},
   "outputs": [
    {
     "data": {
      "text/plain": [
       "SVC(C=100.0, gamma=0.001)"
      ]
     },
     "execution_count": 23,
     "metadata": {},
     "output_type": "execute_result"
    }
   ],
   "source": [
    "from sklearn import svm\n",
    "clf = svm.SVC(gamma=0.001, C=100.)\n",
    "clf.fit(digits.data[:-3], digits.target[:-3]) #train the clf"
   ]
  },
  {
   "cell_type": "code",
   "execution_count": 30,
   "metadata": {},
   "outputs": [
    {
     "data": {
      "text/plain": [
       "array([8, 9, 8])"
      ]
     },
     "execution_count": 30,
     "metadata": {},
     "output_type": "execute_result"
    }
   ],
   "source": [
    "#predict the last 3 data\n",
    "#note that the input must be 2-D so digits.data[-1] does not work as it is 1D\n",
    "clf.predict(digits.data[-3:]) \n"
   ]
  },
  {
   "cell_type": "code",
   "execution_count": 59,
   "metadata": {
    "scrolled": true
   },
   "outputs": [
    {
     "name": "stdout",
     "output_type": "stream",
     "text": [
      "Classification report for classifier SVC(gamma=0.001):\n",
      "              precision    recall  f1-score   support\n",
      "\n",
      "           3       1.00      1.00      1.00        54\n",
      "           7       1.00      1.00      1.00        55\n",
      "\n",
      "    accuracy                           1.00       109\n",
      "   macro avg       1.00      1.00      1.00       109\n",
      "weighted avg       1.00      1.00      1.00       109\n",
      "\n",
      "\n",
      "Confusion matrix:\n",
      "[[54  0]\n",
      " [ 0 55]]\n"
     ]
    },
    {
     "data": {
      "image/png": "[encoded data removed]",
      "text/plain": [
       "<Figure size 432x288 with 8 Axes>"
      ]
     },
     "metadata": {
      "needs_background": "light"
     },
     "output_type": "display_data"
    },
    {
     "data": {
      "image/png": "[encoded data removed]",
      "text/plain": [
       "<Figure size 432x288 with 2 Axes>"
      ]
     },
     "metadata": {
      "needs_background": "light"
     },
     "output_type": "display_data"
    }
   ],
   "source": [
    "#K-nearest neigbor\n",
    "import matplotlib.pyplot as plt\n",
    "\n",
    "# Import datasets, classifiers and performance metrics\n",
    "from sklearn import datasets, svm, metrics\n",
    "from sklearn.model_selection import train_test_split\n",
    "\n",
    "# The digits dataset\n",
    "digits = datasets.load_digits()\n",
    "\n",
    "# The data that we are interested in is made of 8x8 images of digits, let's\n",
    "# have a look at the first 4 images, stored in the `images` attribute of the\n",
    "# dataset.  If we were working from image files, we could load them using\n",
    "# matplotlib.pyplot.imread.  Note that each image must have the same size. For these\n",
    "# images, we know which digit they represent: it is given in the 'target' of\n",
    "# the dataset.\n",
    "_, axes = plt.subplots(2, 4)\n",
    "images_and_labels = list(zip(digits.images, digits.target))\n",
    "for ax, (image, label) in zip(axes[0, :], images_and_labels[:4]):\n",
    "    ax.set_axis_off()\n",
    "    ax.imshow(image, cmap=plt.cm.gray_r, interpolation='nearest')\n",
    "    ax.set_title('Training: %i' % label)\n",
    "\n",
    "# To apply a classifier on this data, we need to flatten the image, to\n",
    "# turn the data in a (samples, feature) matrix:\n",
    "\n",
    "n_samples = len(digits.images)\n",
    "data = digits.images.reshape((n_samples, -1))\n",
    "\n",
    "# Create a classifier: a support vector classifier\n",
    "classifier = svm.SVC(gamma=0.001)\n",
    "\n",
    "#filter 3 and 7 data\n",
    "\n",
    "mask = [label==3 or label==7 for label in digits.target] \n",
    "X = data[mask]\n",
    "\n",
    "\n",
    "# Split data into train and test subsets\n",
    "\n",
    "\n",
    "y = digits.target[mask]\n",
    "X_train, X_test, y_train, y_test = train_test_split(X, y, test_size=0.3, shuffle=False)\n",
    "\n",
    "# We learn the digits on the first half of the digits\n",
    "classifier.fit(X_train, y_train)\n",
    "\n",
    "# Now predict the value of the digit on the second half:\n",
    "predicted = classifier.predict(X_test)\n",
    "\n",
    "images_and_predictions = list(zip(digits.images[n_samples // 2:], predicted))\n",
    "for ax, (image, prediction) in zip(axes[1, :], images_and_predictions[:4]):\n",
    "    ax.set_axis_off()\n",
    "    ax.imshow(image, cmap=plt.cm.gray_r, interpolation='nearest')\n",
    "    ax.set_title('Prediction: %i' % prediction)\n",
    "\n",
    "print(\"Classification report for classifier %s:\\n%s\\n\"\n",
    "      % (classifier, metrics.classification_report(y_test, predicted)))\n",
    "disp = metrics.plot_confusion_matrix(classifier, X_test, y_test)\n",
    "disp.figure_.suptitle(\"Confusion Matrix\")\n",
    "print(\"Confusion matrix:\\n%s\" % disp.confusion_matrix)\n",
    "\n",
    "plt.show()"
   ]
  }
 ],
 "metadata": {
  "kernelspec": {
   "display_name": "Python 3",
   "language": "python",
   "name": "python3"
  },
  "language_info": {
   "codemirror_mode": {
    "name": "ipython",
    "version": 3
   },
   "file_extension": ".py",
   "mimetype": "text/x-python",
   "name": "python",
   "nbconvert_exporter": "python",
   "pygments_lexer": "ipython3",
   "version": "3.7.4"
  }
 },
 "nbformat": 4,
 "nbformat_minor": 2
}
