{
 "cells": [
  {
   "cell_type": "code",
   "execution_count": null,
   "metadata": {},
   "outputs": [],
   "source": [
    "Tutorial session"
   ]
  },
  {
   "cell_type": "code",
   "execution_count": 1,
   "metadata": {
    "scrolled": false
   },
   "outputs": [
    {
     "name": "stdout",
     "output_type": "stream",
     "text": [
      "centers.shape (6, 1)\n",
      "heights.shape (4, 1)\n",
      "weights.shape (4, 1)\n",
      "x.shape (4, 6)\n",
      "Original inputs [[1.32]\n",
      " [1.45]\n",
      " [1.66]\n",
      " [1.88]]\n",
      "RBF repr [[3.59155441e-01 8.65887748e-01 9.38005000e-01 4.56576050e-01\n",
      "  9.98586094e-02 9.81346359e-03]\n",
      " [1.31993843e-01 5.35261429e-01 9.75309912e-01 7.98516219e-01\n",
      "  2.93757700e-01 4.85578213e-02]\n",
      " [1.28296036e-02 1.20512717e-01 5.08647519e-01 9.64640293e-01\n",
      "  8.22012235e-01 3.14742637e-01]\n",
      " [4.33334765e-04 9.81346359e-03 9.98586094e-02 4.56576050e-01\n",
      "  9.38005000e-01 8.65887748e-01]]\n",
      "Score on training data =  0.9999957340594902\n",
      "all_x.shape (1000, 1)\n",
      "expanded_x.shape (1000, 6)\n",
      "all_y.shape (1000, 1)\n"
     ]
    },
    {
     "data": {
      "text/plain": [
       "<matplotlib.collections.PathCollection at 0x11a8df350>"
      ]
     },
     "execution_count": 1,
     "metadata": {},
     "output_type": "execute_result"
    }
   ],
   "source": [
    "from sklearn.metrics.pairwise import rbf_kernel\n",
    "from sklearn.linear_model import Ridge\n",
    "import matplotlib.pyplot as plt\n",
    "import numpy as np\n",
    "\n",
    "heights = np.asarray([1.32, 1.45, 1.66, 1.88]).reshape(-1, 1)\n",
    "weights = np.asarray([55, 67, 70, 100]).reshape(-1, 1)\n",
    "# bumps\n",
    "centers = np.asarray([1.0, 1.2, 1.4, 1.6, 1.8, 2.0]).reshape(-1, 1) \n",
    "print(\"centers.shape\", centers.shape)\n",
    "print(\"heights.shape\", heights.shape)\n",
    "print(\"weights.shape\", weights.shape)\n",
    "\n",
    "# I recommend playing around with these parameters and seeing how well you fit\n",
    "# the data.  Changing one of the parameters will change the optimal value of\n",
    "# the other:\n",
    "sigma = 0.1\n",
    "alpha = 0.0001\n",
    "\n",
    "# New representation:\n",
    "x = rbf_kernel(heights, centers, gamma=1.0/sigma)\n",
    "print(\"x.shape\", x.shape)\n",
    "print(\"Original inputs\", heights)\n",
    "print(\"RBF repr\", x)\n",
    "\n",
    "# Now go and fit a linear model between x and height\n",
    "regr = Ridge(alpha=alpha, fit_intercept=False)\n",
    "regr.fit(x, weights)\n",
    "print(\"Score on training data = \", regr.score(x, weights))\n",
    "all_x = np.linspace(-3.0, 5.0, 1000).reshape(-1, 1)\n",
    "\n",
    "# New representation:\n",
    "expanded_x = rbf_kernel(all_x, centers, gamma=1 / sigma)\n",
    "all_y = regr.predict(expanded_x)\n",
    "print(\"all_x.shape\", all_x.shape)\n",
    "print(\"expanded_x.shape\", expanded_x.shape)\n",
    "print(\"all_y.shape\", all_y.shape)\n",
    "\n",
    "# Show that the predictions tend to zero far away from inputs\n",
    "plt.figure()\n",
    "plt.plot(all_x, all_y)\n",
    "plt.scatter(heights, weights)\n",
    "\n",
    "# Zoom in and see how well predictions fit the data\n",
    "zoom_ind = (all_x > heights.min()) & (all_x < heights.max())\n",
    "plt.figure()\n",
    "plt.plot(all_x[zoom_ind], all_y[zoom_ind])\n",
    "plt.scatter(heights, weights)\n"
   ]
  },
  {
   "cell_type": "code",
   "execution_count": 2,
   "metadata": {},
   "outputs": [
    {
     "name": "stdout",
     "output_type": "stream",
     "text": [
      "[[array([8.75281014e-213]), array([5.84513561e-108]), array([1.41205905e-50]), array([9.1052575e-29])], [array([0.]), array([0.]), array([2.39017969e-103]), array([1.09418685e-47])], [array([0.]), array([0.]), array([6.e-322]), array([5.65022262e-95])], [array([1.06286567e-277]), array([0.]), array([0.]), array([1.06286567e-277])], [array([5.65022262e-95]), array([5.45690209e-178]), array([0.]), array([0.])], [array([1.09418685e-47]), array([1.64356966e-72]), array([1.43339524e-188]), array([0.])]]\n"
     ]
    }
   ],
   "source": [
    "b= []\n",
    "for y in centers:\n",
    "    a = []\n",
    "    for i in heights:\n",
    "        a.append(np.exp(1/((-2*sigma**2)*(i-y)**2)))\n",
    "    b.append(a)\n",
    "print(b)"
   ]
  },
  {
   "cell_type": "markdown",
   "metadata": {},
   "source": [
    "PCW session\n",
    "- I am confused about the training data. Is it supposed to be this way or we should to 'flatten the x axis' in a way the 5th minute of day 1 should have smaller x value of 5th minute of day 2. Otherwise the temperature lines would be heavily overlapped as in the below graphs"
   ]
  },
  {
   "cell_type": "code",
   "execution_count": 3,
   "metadata": {},
   "outputs": [],
   "source": [
    "import numpy as np\n",
    "import matplotlib.pyplot as plt\n",
    "from sklearn import linear_model\n",
    "\n",
    "years = range(2011, 2017)\n",
    "files = ['CRNS0101-05-%d-CA_Yosemite_Village_12_W.txt' % y for y in years]\n",
    "usecols = [1, 2, 8]\n",
    "\n",
    "data = [np.loadtxt(f, usecols=usecols) for f in files]\n",
    "data = np.vstack(data)\n",
    "\n",
    "# Map from HHmm to an integer\n",
    "data[:, 1] = np.floor_divide(data[:, 1], 100) * 60 + np.mod(data[:, 1], 100)\n",
    "valid = data[:, 2] > -1000\n",
    "\n",
    "x_train = data[valid, 1].reshape(-1, 1)\n",
    "y_train = data[valid, 2]\n",
    "regr = linear_model.LinearRegression()\n",
    "regr.fit(x_train, y_train)\n",
    "\n",
    "x_predict = [[0], [1435]]\n",
    "y_predict = regr.predict(x_predict)\n",
    "\n"
   ]
  },
  {
   "cell_type": "code",
   "execution_count": 24,
   "metadata": {},
   "outputs": [
    {
     "data": {
      "text/plain": [
       "Index(['53150 20110101 0005 20101231 1605      2 -119.82   37.76    -6.4     0.0 -99999 0 -9999.0 U 0 -9999 0 -99.000 -9999.0  1218 0 -99.00 0'], dtype='object')"
      ]
     },
     "execution_count": 24,
     "metadata": {},
     "output_type": "execute_result"
    }
   ],
   "source": [
    "import pandas as pd\n",
    "df = pd.read_csv('CRNS0101-05-2011-CA_Yosemite_Village_12_W.txt')\n",
    "df.columns"
   ]
  },
  {
   "cell_type": "code",
   "execution_count": 26,
   "metadata": {},
   "outputs": [
    {
     "data": {
      "text/plain": [
       "630854"
      ]
     },
     "execution_count": 26,
     "metadata": {},
     "output_type": "execute_result"
    }
   ],
   "source": [
    "len(data[valid, 1])"
   ]
  },
  {
   "cell_type": "code",
   "execution_count": 32,
   "metadata": {},
   "outputs": [
    {
     "data": {
      "text/plain": [
       "[<matplotlib.lines.Line2D at 0x11e4381d0>]"
      ]
     },
     "execution_count": 32,
     "metadata": {},
     "output_type": "execute_result"
    },
    {
     "data": {
      "image/png": "[encoded data removed]",
      "text/plain": [
       "<Figure size 432x288 with 1 Axes>"
      ]
     },
     "metadata": {
      "needs_background": "light"
     },
     "output_type": "display_data"
    }
   ],
   "source": [
    "plt.plot(data[valid, 1][:287], data[valid, 2][:287], label='Data', color='b')\n",
    "plt.plot(data[valid, 1][287:574], data[valid, 2][287:574], label='Data', color='r')\n",
    "plt.plot(data[valid, 1][575:860], data[valid, 2][575:860], label='Data', color='g')"
   ]
  },
  {
   "cell_type": "code",
   "execution_count": 4,
   "metadata": {},
   "outputs": [
    {
     "data": {
      "image/png": "[encoded data removed]",
      "text/plain": [
       "<Figure size 432x288 with 1 Axes>"
      ]
     },
     "metadata": {
      "needs_background": "light"
     },
     "output_type": "display_data"
    }
   ],
   "source": [
    "plt.scatter(data[valid, 1], data[valid, 2], label='Data', color='b')\n",
    "plt.plot(x_predict, y_predict, label='Linear prediction', color='r')\n",
    "plt.legend(loc='best')\n",
    "plt.show()"
   ]
  },
  {
   "cell_type": "code",
   "execution_count": 5,
   "metadata": {},
   "outputs": [
    {
     "data": {
      "text/plain": [
       "29.9"
      ]
     },
     "execution_count": 5,
     "metadata": {},
     "output_type": "execute_result"
    }
   ],
   "source": [
    "max(data[valid, 2])"
   ]
  },
  {
   "cell_type": "code",
   "execution_count": 6,
   "metadata": {},
   "outputs": [
    {
     "name": "stdout",
     "output_type": "stream",
     "text": [
      "x.shape (630854, 6)\n",
      "Original inputs [[1.32]\n",
      " [1.45]\n",
      " [1.66]\n",
      " [1.88]]\n",
      "RBF repr [[3.25748853e-070 1.94033543e-063 5.19320116e-057 6.24536596e-051\n",
      "  3.37477679e-045 8.19401262e-040]\n",
      " [0.00000000e+000 0.00000000e+000 6.22522714e-322 3.64597401e-307\n",
      "  9.55851373e-293 1.12598235e-278]\n",
      " [0.00000000e+000 0.00000000e+000 0.00000000e+000 0.00000000e+000\n",
      "  0.00000000e+000 0.00000000e+000]\n",
      " ...\n",
      " [0.00000000e+000 0.00000000e+000 0.00000000e+000 0.00000000e+000\n",
      "  0.00000000e+000 0.00000000e+000]\n",
      " [0.00000000e+000 0.00000000e+000 0.00000000e+000 0.00000000e+000\n",
      "  0.00000000e+000 0.00000000e+000]\n",
      " [4.53999298e-005 5.57390369e-007 3.07487988e-009 7.62186519e-012\n",
      "  8.48904403e-015 4.24835426e-018]]\n",
      "Score on training data =  -1.6588342913736742\n",
      "all_x.shape (2,)\n",
      "expanded_x.shape (2, 6)\n",
      "all_y.shape (2,)\n"
     ]
    },
    {
     "data": {
      "text/plain": [
       "<matplotlib.collections.PathCollection at 0x1186c38d0>"
      ]
     },
     "execution_count": 6,
     "metadata": {},
     "output_type": "execute_result"
    },
    {
     "data": {
      "image/png": "[encoded data removed]",
      "text/plain": [
       "<Figure size 432x288 with 1 Axes>"
      ]
     },
     "metadata": {
      "needs_background": "light"
     },
     "output_type": "display_data"
    }
   ],
   "source": [
    "sigma = 0.1\n",
    "alpha = 0.0001\n",
    "\n",
    "# New representation:\n",
    "x_train = data[valid, 1].reshape(-1, 1)\n",
    "y = data[valid, 2]\n",
    "x = rbf_kernel(x_train, centers, gamma=1.0/sigma)\n",
    "print(\"x.shape\", x.shape)\n",
    "print(\"Original inputs\", heights)\n",
    "print(\"RBF repr\", x)\n",
    "\n",
    "# Now go and fit a linear model between x and height\n",
    "regr = Ridge(alpha=alpha, fit_intercept=False)\n",
    "regr.fit(x, y)\n",
    "print(\"Score on training data = \", regr.score(x, y))\n",
    "\n",
    "x_predict = [[0], [1435]]\n",
    "\n",
    "# New representation:\n",
    "expanded_x = rbf_kernel(x_predict, centers, gamma=1 / sigma)\n",
    "y_predict = regr.predict(expanded_x)\n",
    "print(\"all_x.shape\", y_predict.shape)\n",
    "print(\"expanded_x.shape\", expanded_x.shape)\n",
    "print(\"all_y.shape\", y_predict.shape)\n",
    "\n",
    "# Show that the predictions tend to zero far away from inputs\n",
    "plt.figure()\n",
    "plt.plot(x_predict, y_predict)\n",
    "plt.scatter(x_train, y)\n",
    "\n",
    "# # Zoom in and see how well predictions fit the data\n",
    "# zoom_ind = (x_predict > heights.min()) & (x_predict < heights.max())\n",
    "# plt.figure()\n",
    "# plt.plot(all_x[zoom_ind], all_y[zoom_ind])\n",
    "# plt.scatter(heights, weights)"
   ]
  },
  {
   "cell_type": "code",
   "execution_count": null,
   "metadata": {},
   "outputs": [],
   "source": []
  }
 ],
 "metadata": {
  "kernelspec": {
   "display_name": "Python 3",
   "language": "python",
   "name": "python3"
  },
  "language_info": {
   "codemirror_mode": {
    "name": "ipython",
    "version": 3
   },
   "file_extension": ".py",
   "mimetype": "text/x-python",
   "name": "python",
   "nbconvert_exporter": "python",
   "pygments_lexer": "ipython3",
   "version": "3.7.4"
  }
 },
 "nbformat": 4,
 "nbformat_minor": 2
}
